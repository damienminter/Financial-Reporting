{
 "metadata": {
  "language_info": {
   "codemirror_mode": {
    "name": "ipython",
    "version": 3
   },
   "file_extension": ".py",
   "mimetype": "text/x-python",
   "name": "python",
   "nbconvert_exporter": "python",
   "pygments_lexer": "ipython3",
   "version": "3.8.5-final"
  },
  "orig_nbformat": 2,
  "kernelspec": {
   "name": "python3",
   "display_name": "Python 3",
   "language": "python"
  }
 },
 "nbformat": 4,
 "nbformat_minor": 2,
 "cells": [
  {
   "source": [
    "IFRS 16 - LEASES\n",
    "----------------\n",
    "To specify the principles for recognition, measurement presentation and disclosure of LEASES\n"
   ],
   "cell_type": "markdown",
   "metadata": {}
  },
  {
   "cell_type": "code",
   "execution_count": 49,
   "metadata": {},
   "outputs": [],
   "source": [
    "import numpy as np\n",
    "import pprint as pp\n",
    "# Are you the lessee or lease"
   ]
  },
  {
   "cell_type": "code",
   "execution_count": 50,
   "metadata": {},
   "outputs": [
    {
     "output_type": "execute_result",
     "data": {
      "text/plain": [
       "399288.4746682543"
      ]
     },
     "metadata": {},
     "execution_count": 50
    }
   ],
   "source": [
    "interestRate = 0.04  # Annual interest rate\n",
    "compoundingFrequency = 1      # Compounded every quarter\n",
    "periodicCashFlow = -110000    # Periodic future cash flows \n",
    "futureValue = 0\n",
    "numberOfYears = 4\n",
    "\n",
    "\n",
    "initial_recognition = np.pv(interestRate/compoundingFrequency,compoundingFrequency*numberOfYears,                        periodicCashFlow,futureValue,when='end');\n",
    "\n",
    "initial_recognition"
   ]
  },
  {
   "cell_type": "code",
   "execution_count": 51,
   "metadata": {},
   "outputs": [],
   "source": [
    "def initial_recognition_amount(interestRate=0, compoundingFrequency=1, numberOfYears=1, periodicCashFlow=0,futureValue=0, when='end'):\n",
    "\n",
    "    return np.pv(interestRate/compoundingFrequency,compoundingFrequency*numberOfYears,                        periodicCashFlow,futureValue, when)\n"
   ]
  },
  {
   "cell_type": "code",
   "execution_count": 68,
   "metadata": {},
   "outputs": [
    {
     "output_type": "stream",
     "name": "stdout",
     "text": [
      "399288.4746682543\n"
     ]
    }
   ],
   "source": [
    "x = initial_recognition_amount(interestRate = 0.04, compoundingFrequency = 1, periodicCashFlow = -110000, futureValue = 0, numberOfYears = 4, when='end')\n",
    "\n",
    "print(x)"
   ]
  },
  {
   "cell_type": "code",
   "execution_count": 88,
   "metadata": {
    "tags": []
   },
   "outputs": [
    {
     "output_type": "stream",
     "name": "stdout",
     "text": [
      "305260.0136549845\n207470.41420118386\n105769.23076923122\n[]\n"
     ]
    }
   ],
   "source": [
    "i = 0\n",
    "x = 399288.4746682543\n",
    "cashflows = []\n",
    "while x >= 0:\n",
    "    \n",
    "    interest_payable = x * interestRate\n",
    "    lease_liability = - periodicCashFlow - interest_payable\n",
    "    x -= lease_liability\n",
    "    i += 1\n",
    "\n",
    "    \n",
    "    \n",
    "    # cashflows.append({\"n\":i, \"interest_payable\":interest_payable, \"lease_liability\":lease_liability, \"residual_liability\":x})\n",
    "    if x < lease_liability:\n",
    "        break\n",
    "\n",
    "    print(x)\n",
    "\n",
    "pp.pprint(cashflows)\n",
    "\n"
   ]
  },
  {
   "cell_type": "code",
   "execution_count": null,
   "metadata": {},
   "outputs": [],
   "source": []
  }
 ]
}